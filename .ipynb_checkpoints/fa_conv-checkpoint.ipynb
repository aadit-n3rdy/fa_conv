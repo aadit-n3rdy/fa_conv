{
 "cells": [
  {
   "cell_type": "code",
   "execution_count": 15,
   "id": "4df8fdce-e17f-409c-b216-9498e6ba3f63",
   "metadata": {},
   "outputs": [],
   "source": [
    "from automata.fa.nfa import NFA\n",
    "from automata.fa.dfa import DFA\n",
    "from visual_automata.fa.nfa import VisualNFA\n",
    "from visual_automata.fa.dfa import VisualDFA\n",
    "import json\n",
    "import sys\n",
    "\n",
    "\n",
    "ip_fname = \"nfa.json\"\n",
    "\n",
    "\n",
    "obj = {}\n",
    "with open(ip_fname) as f:\n",
    "    obj = json.load(f)\n",
    "\n",
    "states = set(obj['states'])\n",
    "input_symbols = set(obj['input_symbols'])\n",
    "transitions = dict()\n",
    "for k, v in dict(obj['transitions']).items():\n",
    "    transitions[k] = dict()\n",
    "    for sym, n in dict(v).items():\n",
    "        transitions[k][sym] = set(n)\n",
    "initial_state = obj['initial_state']\n",
    "final_states = set(obj['final_states'])\n",
    "nfa = NFA(states=states, input_symbols=input_symbols, \n",
    "          transitions=transitions, initial_state=initial_state, \n",
    "          final_states=final_states)\n",
    "\n",
    "\n",
    "dfa = DFA.from_nfa(nfa)"
   ]
  },
  {
   "cell_type": "code",
   "execution_count": 13,
   "id": "ade87491-177f-47b4-91f0-e318b58713b4",
   "metadata": {},
   "outputs": [],
   "source": [
    "nfa.show_diagram().draw('out.png')"
   ]
  },
  {
   "cell_type": "code",
   "execution_count": 16,
   "id": "e8f14812-4b0e-4b8a-81f0-3ebe3d001e73",
   "metadata": {},
   "outputs": [],
   "source": [
    "dfa.show_diagram().draw('dfa.png')"
   ]
  },
  {
   "cell_type": "code",
   "execution_count": null,
   "id": "2643def8-5f4a-4608-b22c-bbdc96c18870",
   "metadata": {},
   "outputs": [],
   "source": []
  }
 ],
 "metadata": {
  "kernelspec": {
   "display_name": "toc",
   "language": "python",
   "name": "toc"
  },
  "language_info": {
   "codemirror_mode": {
    "name": "ipython",
    "version": 3
   },
   "file_extension": ".py",
   "mimetype": "text/x-python",
   "name": "python",
   "nbconvert_exporter": "python",
   "pygments_lexer": "ipython3",
   "version": "3.11.7"
  }
 },
 "nbformat": 4,
 "nbformat_minor": 5
}
